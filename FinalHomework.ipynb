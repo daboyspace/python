{
  "nbformat": 4,
  "nbformat_minor": 0,
  "metadata": {
    "colab": {
      "provenance": [],
      "authorship_tag": "ABX9TyMDeh5jOUb54gpNFXW3cRO8",
      "include_colab_link": true
    },
    "kernelspec": {
      "name": "python3",
      "display_name": "Python 3"
    },
    "language_info": {
      "name": "python"
    }
  },
  "cells": [
    {
      "cell_type": "markdown",
      "metadata": {
        "id": "view-in-github",
        "colab_type": "text"
      },
      "source": [
        "<a href=\"https://colab.research.google.com/github/daboyspace/python/blob/main/FinalHomework.ipynb\" target=\"_parent\"><img src=\"https://colab.research.google.com/assets/colab-badge.svg\" alt=\"Open In Colab\"/></a>"
      ]
    },
    {
      "cell_type": "code",
      "source": [
        "import random\n",
        "import pandas as pd\n",
        "\n",
        "lst = ['robot'] * 10\n",
        "lst += ['human'] * 10\n",
        "random.shuffle(lst)\n",
        "\n",
        "def set_one_hot(row):\n",
        "    if row['whoAmI'] == 'robot':\n",
        "        row['robot'] = True\n",
        "    elif row['whoAmI'] == 'human':\n",
        "        row['human'] = True\n",
        "    return row\n",
        "    print(data.head())"
      ],
      "metadata": {
        "id": "28C_mQon5f_s"
      },
      "execution_count": null,
      "outputs": []
    },
    {
      "cell_type": "markdown",
      "source": [
        "# создаем новые столбцы, присваиваем им значение False\n",
        "data = pd.DataFrame().assign(robot=False, human=False)\n",
        "\n",
        "# функция, которую будем применять к каждому элементу столбца 'whoAmI'"
      ],
      "metadata": {
        "id": "lG0CmEem5hSM"
      }
    },
    {
      "cell_type": "markdown",
      "source": [
        "# применяем функцию set_one_hot() к каждой строке в столбце 'whoAmI'\n",
        "data = data.assign(whoAmI=lst).apply(set_one_hot, axis=1)\n",
        "\n",
        "# удаляем исходный столбец 'whoAmI'\n",
        "data = data.drop(columns=['whoAmI'])"
      ],
      "metadata": {
        "id": "uWIIinhS5pAR"
      }
    },
    {
      "cell_type": "markdown",
      "source": [
        "*Этот код создает новые столбцы 'robot' и 'human', присваивает им значение False, и применяет функцию set_one_hot() к каждой строке в столбце 'whoAmI'. Функция set_one_hot() проверяет значение в каждой строке, и устанавливает значение True в соответствующем столбце, если значение в столбце 'whoAmI' совпадает с искомым значением. В конце кода исходный столбец 'whoAmI' удаляется, так как он больше не нужен.*"
      ],
      "metadata": {
        "id": "FydKsIhl54Wg"
      }
    }
  ]
}